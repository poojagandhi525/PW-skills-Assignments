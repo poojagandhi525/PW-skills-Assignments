{
 "cells": [
  {
   "cell_type": "markdown",
   "id": "c4ce5cab-c275-48de-a225-e0a0d8d8105f",
   "metadata": {},
   "source": [
    "## Q1. How do you comment code in Python? What are the different types of comments?"
   ]
  },
  {
   "cell_type": "markdown",
   "id": "eb5669fd-7cf9-453a-9c32-f17399b079d1",
   "metadata": {},
   "source": [
    "We can comment lines of codes in python by using different ways.\n",
    "Python intepreter used to ignore the comments while executing the program which makes the program readable and can include explanation of the code.\n",
    "\n",
    "We can comment the lines of code in python by using:\n",
    "\n",
    "a) #abc ->This is used for single line comments. If we have to used in next line also, then we can use # again. This comment will not give output.\n",
    "\n",
    "b) 'abc' -> This is also for single line\n",
    "\n",
    "c)'''abc''' -> We can use this way for multi line codes. We have to mention''' in the starting of the code and ''' at the end of code.\n",
    "\n",
    "d)\"\"\"abc\"\"\" -> This is same as above, used for multi line codes.\n",
    "\n",
    "e)\"abc\" -> This is for single line codes."
   ]
  },
  {
   "cell_type": "code",
   "execution_count": 1,
   "id": "fb63db9f-96d3-4aed-b17a-9b30a338e4eb",
   "metadata": {},
   "outputs": [],
   "source": [
    "# This is a commented code"
   ]
  },
  {
   "cell_type": "code",
   "execution_count": 2,
   "id": "49e7951e-0f5a-4a54-a41f-dd254420572a",
   "metadata": {},
   "outputs": [
    {
     "data": {
      "text/plain": [
       "'This is used for single line codes'"
      ]
     },
     "execution_count": 2,
     "metadata": {},
     "output_type": "execute_result"
    }
   ],
   "source": [
    "'This is used for single line codes'"
   ]
  },
  {
   "cell_type": "code",
   "execution_count": 3,
   "id": "307e99bf-191e-4b53-9a83-d33718f0552f",
   "metadata": {},
   "outputs": [
    {
     "data": {
      "text/plain": [
       "'This is also used for single line codes'"
      ]
     },
     "execution_count": 3,
     "metadata": {},
     "output_type": "execute_result"
    }
   ],
   "source": [
    "\"This is also used for single line codes\""
   ]
  },
  {
   "cell_type": "code",
   "execution_count": 4,
   "id": "300be38b-98de-4402-b10d-62792497c01f",
   "metadata": {},
   "outputs": [
    {
     "data": {
      "text/plain": [
       "'\\nThis is for multi lines\\nline1\\nline2\\nline3\\n'"
      ]
     },
     "execution_count": 4,
     "metadata": {},
     "output_type": "execute_result"
    }
   ],
   "source": [
    "\"\"\"\n",
    "This is for multi lines\n",
    "line1\n",
    "line2\n",
    "line3\n",
    "\"\"\""
   ]
  },
  {
   "cell_type": "code",
   "execution_count": 5,
   "id": "0d696ae4-dc72-47cb-add4-fe86569bf1be",
   "metadata": {},
   "outputs": [
    {
     "data": {
      "text/plain": [
       "'\\nThis is also for multi line\\nA\\nB\\nC\\n'"
      ]
     },
     "execution_count": 5,
     "metadata": {},
     "output_type": "execute_result"
    }
   ],
   "source": [
    "'''\n",
    "This is also for multi line\n",
    "A\n",
    "B\n",
    "C\n",
    "'''"
   ]
  },
  {
   "cell_type": "markdown",
   "id": "ebe20e9b-8e65-40e5-8f33-fa75ad171a9d",
   "metadata": {},
   "source": [
    "## Q2. What are variables in Python? How do you declare and assign values to variables?"
   ]
  },
  {
   "cell_type": "markdown",
   "id": "f1489b69-cc43-44a6-83f4-2147689edb81",
   "metadata": {},
   "source": [
    "Python variables are the containers in which we can store values. A variable is created when we assign the value to that variable. \n",
    "If we assign the different value to that variable again then stored value will be changed in the variable.\n",
    "\n",
    "To declare a varibale, we simply write the varibale name = VALUE.\n",
    "\n",
    "A variable is created when some value is assigned to it. The value assigned to a variable determines the data type of that variable.\n",
    "Thus, declaring a variable in Python is very simple."
   ]
  },
  {
   "cell_type": "code",
   "execution_count": 6,
   "id": "3d85ebbf-7e87-41da-87ab-e8f06833b9f6",
   "metadata": {},
   "outputs": [
    {
     "name": "stdout",
     "output_type": "stream",
     "text": [
      "PWSKILLS <class 'str'>\n"
     ]
    }
   ],
   "source": [
    "a = \"PWSKILLS\"\n",
    "print(a,type(a))\n",
    "\n",
    "#Here a is called the variable and \"PWSKILLS\" is a value which is stored in the variable which is of string data type."
   ]
  },
  {
   "cell_type": "markdown",
   "id": "48529cc4-f3e0-4be8-ad20-86e4756a1f7e",
   "metadata": {},
   "source": [
    "## Q3. How do you convert one data type to another in Python?"
   ]
  },
  {
   "cell_type": "markdown",
   "id": "e157fd9e-cef6-48f9-80c6-ed40e21886ca",
   "metadata": {},
   "source": [
    "We can convert the data type to another data type very simply.\n",
    "\n",
    "To convert any data type to string we use, str()\n",
    "\n",
    "To convert any data type to int we use, int()\n",
    "\n",
    "To convert into float, float(), etc."
   ]
  },
  {
   "cell_type": "code",
   "execution_count": 7,
   "id": "9a14e474-09dd-4029-9702-f0b2ae1b3660",
   "metadata": {},
   "outputs": [
    {
     "name": "stdin",
     "output_type": "stream",
     "text": [
      "Enter a number of your choice 45\n"
     ]
    },
    {
     "name": "stdout",
     "output_type": "stream",
     "text": [
      "45 <class 'int'>\n"
     ]
    }
   ],
   "source": [
    "# Like input funaction always used to give output in string datatype. so we have to convert it in int datatype.\n",
    "\n",
    "number = int(input(\"Enter a number of your choice\"))\n",
    "\n",
    "print(number,type(number))"
   ]
  },
  {
   "cell_type": "markdown",
   "id": "c1655355-a660-4fa8-b9fc-4564b6b3ce4a",
   "metadata": {},
   "source": [
    "## Q4. How do you write and execute a Python script from the command line?"
   ]
  },
  {
   "cell_type": "code",
   "execution_count": 8,
   "id": "400683c5-de02-4b90-85bc-a904dc8bdfa7",
   "metadata": {},
   "outputs": [],
   "source": [
    "# I am not getting the meaning of this question, will try to learn this later."
   ]
  },
  {
   "cell_type": "markdown",
   "id": "bb14d2ae-0dd0-4964-9153-3620199df9bf",
   "metadata": {},
   "source": [
    "## Q5. Given a list my_list = [1, 2, 3, 4, 5], write the code to slice the list and obtain the sub-list [2, 3]."
   ]
  },
  {
   "cell_type": "code",
   "execution_count": 9,
   "id": "ee20e407-aa3b-4225-ae9b-0887e91150cc",
   "metadata": {},
   "outputs": [
    {
     "name": "stdout",
     "output_type": "stream",
     "text": [
      "[1, 2, 3, 4, 5]\n",
      "[2, 3]\n"
     ]
    }
   ],
   "source": [
    "my_list = [1,2,3,4,5]\n",
    "print(my_list)\n",
    "\n",
    "# To slice the list and obtain the sub-list [2,3], we can use below code.\n",
    "\n",
    "sub_list = my_list[1:3:1]\n",
    "print(sub_list)"
   ]
  },
  {
   "cell_type": "markdown",
   "id": "23803e86-436d-45ae-a1d8-a7499aa1caa6",
   "metadata": {},
   "source": [
    "## Q6. What is a complex number in mathematics, and how is it represented in Python?"
   ]
  },
  {
   "cell_type": "markdown",
   "id": "75ac65cb-1a08-4347-8a8f-0f5c7beda030",
   "metadata": {},
   "source": [
    "Complex number in a mathematics is the combination of real and imaginary number. We use iota (i) to describe the imaginary number in mathematics and it's value used to be (-1)**(1/2)\n",
    "\n",
    "In python, imaginary number is shown by 'j'"
   ]
  },
  {
   "cell_type": "code",
   "execution_count": 10,
   "id": "8d7066bb-a79d-4ec5-b087-db7b15232aa2",
   "metadata": {},
   "outputs": [
    {
     "name": "stdout",
     "output_type": "stream",
     "text": [
      "(1+5j)\n",
      "<class 'complex'>\n"
     ]
    }
   ],
   "source": [
    "com_number = 1+5j\n",
    "print(com_number)\n",
    "print(type(com_number))"
   ]
  },
  {
   "cell_type": "markdown",
   "id": "bbe41061-d707-4299-b225-f420c5675603",
   "metadata": {},
   "source": [
    "## Q7. What is the correct way to declare a variable named age and assign the value 25 to it?"
   ]
  },
  {
   "cell_type": "code",
   "execution_count": 11,
   "id": "05ce0adc-4f87-4b83-a12e-01706ad85320",
   "metadata": {},
   "outputs": [],
   "source": [
    "# we can use the assignment value as well as take input from the coder. We have to define the data type as int because age used to be in int."
   ]
  },
  {
   "cell_type": "code",
   "execution_count": 12,
   "id": "62f81ba5-307d-4fcc-a03e-bf5a6087a620",
   "metadata": {},
   "outputs": [
    {
     "name": "stdin",
     "output_type": "stream",
     "text": [
      "Enter your age 25\n"
     ]
    },
    {
     "name": "stdout",
     "output_type": "stream",
     "text": [
      "25 <class 'int'>\n"
     ]
    }
   ],
   "source": [
    "# we can also change the data type to float as per the requirement.\n",
    "age = int(input(\"Enter your age\"))\n",
    "print(age,type(age))"
   ]
  },
  {
   "cell_type": "markdown",
   "id": "fece5e34-0e5d-4447-bc01-138706304146",
   "metadata": {},
   "source": [
    "## Q8. Declare a variable named price and assign the value 9.99 to it. What data type does this variable belong to?"
   ]
  },
  {
   "cell_type": "code",
   "execution_count": 13,
   "id": "e8276e6a-18d9-4cc0-bd62-0842ac31918c",
   "metadata": {},
   "outputs": [
    {
     "name": "stdout",
     "output_type": "stream",
     "text": [
      "9.99 <class 'float'>\n"
     ]
    }
   ],
   "source": [
    "price = 9.99\n",
    "print(price,type(price))"
   ]
  },
  {
   "cell_type": "markdown",
   "id": "86c26c2a-0a5f-43bb-8e18-4de2d010cede",
   "metadata": {},
   "source": [
    "## Q9. Create a variable named name and assign your full name to it as a string. How would you print the value of this variable?"
   ]
  },
  {
   "cell_type": "code",
   "execution_count": 14,
   "id": "d5079f80-85c8-4199-8f48-1aa7cd2b41b5",
   "metadata": {},
   "outputs": [
    {
     "name": "stdout",
     "output_type": "stream",
     "text": [
      "Pooja Gandhi\n"
     ]
    }
   ],
   "source": [
    "name = \"Pooja Gandhi\"\n",
    "print(name)"
   ]
  },
  {
   "cell_type": "markdown",
   "id": "0ba0aa9c-9795-4ee3-9b69-bd441be2b52c",
   "metadata": {},
   "source": [
    "## Q10. Given the string \"Hello, World!\", extract the substring \"World\"."
   ]
  },
  {
   "cell_type": "code",
   "execution_count": 15,
   "id": "624369b9-ee62-4a0f-bc7c-1fee8f7c3623",
   "metadata": {},
   "outputs": [
    {
     "name": "stdout",
     "output_type": "stream",
     "text": [
      "Hello, World! <class 'str'>\n",
      "World\n"
     ]
    }
   ],
   "source": [
    "a = \"Hello, World!\"\n",
    "print(a,type(a))\n",
    "print(a[7:-1:])"
   ]
  },
  {
   "cell_type": "markdown",
   "id": "79cf44ea-a1fc-48c0-a88b-63525754ce96",
   "metadata": {},
   "source": [
    "## Q11. Create a variable named \"is_student\" and assign it a boolean value indicating whether you are currently a student or not."
   ]
  },
  {
   "cell_type": "code",
   "execution_count": 16,
   "id": "6f94f6ba-d22c-4ee2-8237-843b3d85cf70",
   "metadata": {},
   "outputs": [
    {
     "name": "stdout",
     "output_type": "stream",
     "text": [
      "True\n",
      "Yes I am a student and learning data science :)\n"
     ]
    }
   ],
   "source": [
    "is_student = True\n",
    "print (is_student)\n",
    "print(\"Yes I am a student and learning data science :)\")"
   ]
  },
  {
   "cell_type": "code",
   "execution_count": null,
   "id": "1be21945-9073-4055-a43d-8a9d68826196",
   "metadata": {},
   "outputs": [],
   "source": []
  }
 ],
 "metadata": {
  "kernelspec": {
   "display_name": "Python 3 (ipykernel)",
   "language": "python",
   "name": "python3"
  },
  "language_info": {
   "codemirror_mode": {
    "name": "ipython",
    "version": 3
   },
   "file_extension": ".py",
   "mimetype": "text/x-python",
   "name": "python",
   "nbconvert_exporter": "python",
   "pygments_lexer": "ipython3",
   "version": "3.10.8"
  }
 },
 "nbformat": 4,
 "nbformat_minor": 5
}
