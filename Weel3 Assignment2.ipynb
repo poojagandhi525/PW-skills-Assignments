{
 "cells": [
  {
   "cell_type": "markdown",
   "id": "fc788b48-7821-4eff-9505-7be574948abf",
   "metadata": {},
   "source": [
    "## Week3 Assignment 2"
   ]
  },
  {
   "cell_type": "markdown",
   "id": "dddb0816-a1d6-40bb-8053-397438541872",
   "metadata": {},
   "source": [
    "Q1. Create a python program to sort the given list of tuples based on integer value using a\n",
    "lambda function.\n",
    "[('Sachin Tendulkar', 34357), ('Ricky Ponting', 27483), ('Jack Kallis', 25534), ('Virat Kohli', 24936)]"
   ]
  },
  {
   "cell_type": "code",
   "execution_count": 1,
   "id": "49cf2462-56d8-4a4c-a4d8-291409cca1e1",
   "metadata": {},
   "outputs": [
    {
     "data": {
      "text/plain": [
       "[34357, 27483, 25534, 24936]"
      ]
     },
     "execution_count": 1,
     "metadata": {},
     "output_type": "execute_result"
    }
   ],
   "source": [
    "l = [('Sachin Tendulkar', 34357), ('Ricky Ponting', 27483), ('Jack Kallis', 25534), ('Virat Kohli', 24936)]\n",
    "l\n",
    "l1 = [l[0][1],l[1][1],l[2][1],l[3][1]]\n",
    "l1"
   ]
  },
  {
   "cell_type": "markdown",
   "id": "1914be63-faf6-41af-8bff-5b3cdc4deac0",
   "metadata": {},
   "source": [
    "Q2. Write a Python Program to find the squares of all the numbers in the given list of integers using\n",
    "lambda and map functions.\n",
    "[1, 2, 3, 4, 5, 6, 7, 8, 9, 10]"
   ]
  },
  {
   "cell_type": "code",
   "execution_count": 2,
   "id": "04db8d47-c823-4317-8e37-9dfa5c24e1a7",
   "metadata": {},
   "outputs": [
    {
     "data": {
      "text/plain": [
       "[1, 4, 9, 16, 25, 36, 49, 64, 81, 100]"
      ]
     },
     "execution_count": 2,
     "metadata": {},
     "output_type": "execute_result"
    }
   ],
   "source": [
    "l = [1,2,3,4,5,6,7,8,9,10]\n",
    "sqnum = lambda x:x**2\n",
    "sqnumlist = list(map(sqnum,l))\n",
    "sqnumlist"
   ]
  },
  {
   "cell_type": "markdown",
   "id": "bfdcd418-854d-4df5-8c76-01d5ee09dfc7",
   "metadata": {},
   "source": [
    "Q3. Write a python program to convert the given list of integers into a tuple of strings. Use map and\n",
    "lambda functions\n",
    "Given String: [1, 2, 3, 4, 5, 6, 7, 8, 9, 10]\n",
    "Expected output: ('1', '2', '3', '4', '5', '6', '7', '8', '9', '10')"
   ]
  },
  {
   "cell_type": "code",
   "execution_count": 3,
   "id": "5e87976f-03fe-4755-9b7e-37bc5d869bbf",
   "metadata": {},
   "outputs": [
    {
     "data": {
      "text/plain": [
       "('1', '2', '3', '4', '5', '6', '7', '8', '9', '10')"
      ]
     },
     "execution_count": 3,
     "metadata": {},
     "output_type": "execute_result"
    }
   ],
   "source": [
    "l = [1,2,3,4,5,6,7,8,9,10]\n",
    "num = lambda x:str(x)\n",
    "tuplelist = tuple(map(num,l))\n",
    "tuplelist"
   ]
  },
  {
   "cell_type": "markdown",
   "id": "12241fb7-da04-478b-9ca5-afe4ec4b54cb",
   "metadata": {},
   "source": [
    "Q4. Write a python program using reduce function to compute the product of a list containing numbers\n",
    "from 1 to 25."
   ]
  },
  {
   "cell_type": "code",
   "execution_count": 4,
   "id": "f789588b-59ea-409a-ad86-fabcd5de7fb6",
   "metadata": {},
   "outputs": [
    {
     "data": {
      "text/plain": [
       "15511210043330985984000000"
      ]
     },
     "execution_count": 4,
     "metadata": {},
     "output_type": "execute_result"
    }
   ],
   "source": [
    "l = list(range(1,26))\n",
    "mul = lambda x,y:x*y\n",
    "from functools import reduce\n",
    "reduce(mul,l)"
   ]
  },
  {
   "cell_type": "markdown",
   "id": "ae2aa526-2c70-4a56-ab73-23dbb818d234",
   "metadata": {},
   "source": [
    "Q5. Write a python program to filter the numbers in a given list that are divisible by 2 and 3 using the\n",
    "filter function.\n",
    "[2, 3, 6, 9, 27, 60, 90, 120, 55, 46]"
   ]
  },
  {
   "cell_type": "code",
   "execution_count": 5,
   "id": "9e5726c7-282d-43ee-83c2-41179aa0b814",
   "metadata": {},
   "outputs": [
    {
     "data": {
      "text/plain": [
       "[2, 3, 6, 9, 27, 60, 90, 120, 46]"
      ]
     },
     "execution_count": 5,
     "metadata": {},
     "output_type": "execute_result"
    }
   ],
   "source": [
    "l = [2, 3, 6, 9, 27, 60, 90, 120, 55, 46]\n",
    "div = lambda x: ((x%2==0) or (x%3==0))\n",
    "result = list(filter(div,l))\n",
    "result"
   ]
  },
  {
   "cell_type": "markdown",
   "id": "ed223e7d-5312-4a06-8508-b087042885b6",
   "metadata": {},
   "source": [
    "Q6. Write a python program to find palindromes in the given list of strings using lambda and filter\n",
    "function.\n",
    "['python', 'php', 'aba', 'radar', 'level']"
   ]
  },
  {
   "cell_type": "code",
   "execution_count": 6,
   "id": "b1c50316-7a2f-4a35-8e04-2ef460d2836d",
   "metadata": {},
   "outputs": [
    {
     "data": {
      "text/plain": [
       "['php', 'aba', 'radar', 'level']"
      ]
     },
     "execution_count": 6,
     "metadata": {},
     "output_type": "execute_result"
    }
   ],
   "source": [
    "l = ['python', 'php', 'aba', 'radar', 'level']\n",
    "pal = lambda x: x == \"\".join(reversed(x))\n",
    "list(filter(pal,l))"
   ]
  },
  {
   "cell_type": "code",
   "execution_count": null,
   "id": "68985fb6-08c0-4f38-8301-c1570b999e33",
   "metadata": {},
   "outputs": [],
   "source": []
  }
 ],
 "metadata": {
  "kernelspec": {
   "display_name": "Python 3 (ipykernel)",
   "language": "python",
   "name": "python3"
  },
  "language_info": {
   "codemirror_mode": {
    "name": "ipython",
    "version": 3
   },
   "file_extension": ".py",
   "mimetype": "text/x-python",
   "name": "python",
   "nbconvert_exporter": "python",
   "pygments_lexer": "ipython3",
   "version": "3.10.8"
  }
 },
 "nbformat": 4,
 "nbformat_minor": 5
}
