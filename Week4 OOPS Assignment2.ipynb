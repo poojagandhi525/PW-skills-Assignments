{
 "cells": [
  {
   "cell_type": "markdown",
   "id": "3014d656-0e89-4526-8f97-bbbd3aa7d472",
   "metadata": {},
   "source": [
    "Q1. What is Abstraction in OOps? Explain with an example."
   ]
  },
  {
   "cell_type": "markdown",
   "id": "4e578597-dc6d-4346-949b-efc730f4e143",
   "metadata": {},
   "source": [
    "Abstraction is used to hide the implementation details from the user. User can intrect with the basic functions but inner implementation details are hidden."
   ]
  },
  {
   "cell_type": "code",
   "execution_count": 1,
   "id": "580bb58c-7db1-4aa3-9847-19ae811c2a03",
   "metadata": {},
   "outputs": [
    {
     "name": "stdout",
     "output_type": "stream",
     "text": [
      "This is the ABC class\n",
      "This is the test of class1\n"
     ]
    }
   ],
   "source": [
    "from abc import ABC, abstractmethod\n",
    "\n",
    "class abcclass(ABC):\n",
    "    def __init__(self):\n",
    "        print(\"This is the ABC class\")\n",
    "        \n",
    "    @abstractmethod\n",
    "    def test(self):\n",
    "        print(\"This is the test of ABC class\")\n",
    "        \n",
    "class class1(abcclass):\n",
    "    def test(self):\n",
    "        print(\"This is the test of class1\")\n",
    "        \n",
    "c1 = class1()\n",
    "c1.test() # we will get the output from class1 not from abcclass"
   ]
  },
  {
   "cell_type": "markdown",
   "id": "50046b13-5574-40ca-aa23-d8a4aeaa1879",
   "metadata": {},
   "source": [
    "Q2. Differentiate between Abstraction and Encapsulation. Explain with an example."
   ]
  },
  {
   "cell_type": "markdown",
   "id": "fd43f2f2-9b5a-4a1c-b4c2-50f64a89b8d6",
   "metadata": {},
   "source": [
    "Abstraction is the method to hide the unwanted details but encapsulation is used to hide the data of single entity to protect from the users."
   ]
  },
  {
   "cell_type": "code",
   "execution_count": 2,
   "id": "1fae088d-7186-4bc1-b5f9-897f080f8128",
   "metadata": {},
   "outputs": [],
   "source": [
    "# Example of abstarction is in above question.\n",
    "\n",
    "# Example of encapsulation -->\n",
    "\n",
    "class account:\n",
    "    def __init__(self,balance):\n",
    "        self.__balance = balance # we are encapuslating the balance from users to directly access.\n",
    "        \n",
    "    def get_balance(self):\n",
    "        return self.__balance # creating the different method for the users to fetch balance details"
   ]
  },
  {
   "cell_type": "markdown",
   "id": "e19152c1-964d-40a9-9db8-7c1196fb358d",
   "metadata": {},
   "source": [
    "Q3. What is abc module in python? Why is it used?"
   ]
  },
  {
   "cell_type": "markdown",
   "id": "662f0ab8-cb62-41e0-8215-fb18de1deba1",
   "metadata": {},
   "source": [
    "abc module is used for abstractmethod. \n",
    "\n",
    "As it is a different directory, we need to import this directory before using.\n",
    "\n",
    "from abc import ABC, abstractmethod"
   ]
  },
  {
   "cell_type": "markdown",
   "id": "d646e0fe-d168-48d9-be12-af6c327bebed",
   "metadata": {},
   "source": [
    "Q4. How can we achieve data abstraction?"
   ]
  },
  {
   "cell_type": "markdown",
   "id": "00f7c3a6-d6d1-4680-a9e1-e135c8540d40",
   "metadata": {},
   "source": [
    "We can achieve data abstraction by using abstract classes and methods. (@abstractmethod)\n",
    "\n",
    "First we need to import abc class."
   ]
  },
  {
   "cell_type": "markdown",
   "id": "d0f2b56d-c910-43d3-9176-4c48ed9246ed",
   "metadata": {},
   "source": [
    "Q5. Can we create an instance of an abstract class? Explain your answer."
   ]
  },
  {
   "cell_type": "markdown",
   "id": "bd3f3b98-5317-4893-aa81-d80bcd9aaba4",
   "metadata": {},
   "source": [
    "We use abstract class to hide the unwanted details, so as per my understanding we can't create the instance of abstract class.\n",
    "But we can create instance by different methods, like used in question1 "
   ]
  },
  {
   "cell_type": "code",
   "execution_count": null,
   "id": "d3a22435-381d-435c-be16-f8aa23baf962",
   "metadata": {},
   "outputs": [],
   "source": []
  }
 ],
 "metadata": {
  "kernelspec": {
   "display_name": "Python 3 (ipykernel)",
   "language": "python",
   "name": "python3"
  },
  "language_info": {
   "codemirror_mode": {
    "name": "ipython",
    "version": 3
   },
   "file_extension": ".py",
   "mimetype": "text/x-python",
   "name": "python",
   "nbconvert_exporter": "python",
   "pygments_lexer": "ipython3",
   "version": "3.10.8"
  }
 },
 "nbformat": 4,
 "nbformat_minor": 5
}
