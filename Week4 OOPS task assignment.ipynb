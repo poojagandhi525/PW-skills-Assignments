{
 "cells": [
  {
   "cell_type": "markdown",
   "id": "31c734f6-fc2f-43fd-a37e-ff1f3fcd2eb2",
   "metadata": {},
   "source": [
    "Q1, Create a vehicle class with an init method having instance variables as name_of_vehicle, max_speed\n",
    "and average_of_vehicle."
   ]
  },
  {
   "cell_type": "code",
   "execution_count": 1,
   "id": "27fe9c66-3262-4d4d-a109-ba8607d57023",
   "metadata": {},
   "outputs": [],
   "source": [
    "class vehicle:\n",
    "    def __init__(self,name_of_vehicle,max_speed,average_of_vehicle):\n",
    "        self.name_of_vehicle = name_of_vehicle\n",
    "        self.max_speed = max_speed\n",
    "        self.average_of_vehicle = average_of_vehicle"
   ]
  },
  {
   "cell_type": "markdown",
   "id": "6de97063-040f-43e3-b541-0884a26de085",
   "metadata": {},
   "source": [
    "Q2. Create a child class car from the vehicle class created in Que 1, which will inherit the vehicle class.\n",
    "Create a method named seating_capacity which takes capacity as an argument and returns the name of\n",
    "the vehicle and its seating capacity."
   ]
  },
  {
   "cell_type": "code",
   "execution_count": 5,
   "id": "80c4717e-3793-45f6-85fc-f618f8d816c1",
   "metadata": {},
   "outputs": [
    {
     "data": {
      "text/plain": [
       "('Car1', 5)"
      ]
     },
     "execution_count": 5,
     "metadata": {},
     "output_type": "execute_result"
    }
   ],
   "source": [
    "class car(vehicle):\n",
    "    \n",
    "    def seating_capacity(self,capacity):\n",
    "        self.capacity = capacity\n",
    "        return self.name_of_vehicle,self.capacity\n",
    "    \n",
    "c1 = car('Car1',220,30)\n",
    "c1.seating_capacity(5)"
   ]
  },
  {
   "cell_type": "markdown",
   "id": "6a9ae0a1-3d21-44d8-b202-b8d7f6546b95",
   "metadata": {},
   "source": [
    "Q3. What is multiple inheritance? Write a python code to demonstrate multiple inheritance."
   ]
  },
  {
   "cell_type": "markdown",
   "id": "99a22169-943b-40a5-bd5c-bed9d735ef29",
   "metadata": {},
   "source": [
    "In multiple inheritance, one class used to inherit properties from multiple classes.\n",
    "\n",
    "class1 -> class3 \n",
    "\n",
    "class2 -> class3\n",
    "\n",
    "Here class3 is inheriting the properties from class1 as well as class2. So, class 3 is a child class of parent class class1 and class2"
   ]
  },
  {
   "cell_type": "code",
   "execution_count": 8,
   "id": "37ae649a-bc59-424a-a8d2-8ef6b12beb5b",
   "metadata": {},
   "outputs": [
    {
     "data": {
      "text/plain": [
       "'This is a method from class2'"
      ]
     },
     "execution_count": 8,
     "metadata": {},
     "output_type": "execute_result"
    }
   ],
   "source": [
    "class class1:\n",
    "    def test_class1(self):\n",
    "        return (\"This is a method from class1\")\n",
    "    \n",
    "class class2:\n",
    "    def test_class2(self):\n",
    "        return (\"This is a method from class2\")\n",
    "    \n",
    "class class3(class1,class2):\n",
    "    def test_class3(self):\n",
    "        return (\"This is a method from class3\")\n",
    "    \n",
    "c2 = class3()\n",
    "c2.test_class2()"
   ]
  },
  {
   "cell_type": "markdown",
   "id": "1a775e66-0c79-4624-8914-f7a03e0e93d3",
   "metadata": {},
   "source": [
    "Q4. What are getter and setter in python? Create a class and create a getter and a setter method in this\n",
    "class."
   ]
  },
  {
   "cell_type": "markdown",
   "id": "d7546c76-ed27-40d4-a3d5-f87855d4d192",
   "metadata": {},
   "source": [
    "We use getters and setters to avoid direct access to private variables and add logic to get and set a value."
   ]
  },
  {
   "cell_type": "code",
   "execution_count": 9,
   "id": "151733c2-1db3-44f9-b94f-baf9a252fc03",
   "metadata": {},
   "outputs": [
    {
     "data": {
      "text/plain": [
       "400"
      ]
     },
     "execution_count": 9,
     "metadata": {},
     "output_type": "execute_result"
    }
   ],
   "source": [
    "class ques4:\n",
    "    def __init__(self,value):\n",
    "        self._value= value\n",
    "        \n",
    "    def getter_method(self):\n",
    "        return self._value\n",
    "    \n",
    "    def setter_method(self,value):\n",
    "        self._value = value\n",
    "        \n",
    "        return self._value\n",
    "    \n",
    "q4 = ques4(250)\n",
    "q4.getter_method()\n",
    "q4.setter_method(400)\n",
    "q4.getter_method()\n",
    "    "
   ]
  },
  {
   "cell_type": "markdown",
   "id": "27c9e22f-1d29-40d6-8f1a-24bae81aa691",
   "metadata": {},
   "source": [
    "Q5.What is method overriding in python? Write a python code to demonstrate method overriding."
   ]
  },
  {
   "cell_type": "markdown",
   "id": "1152931c-c3c4-4fb4-9513-321a979e66cf",
   "metadata": {},
   "source": [
    "We can override methods in python to give access to users to set different values."
   ]
  },
  {
   "cell_type": "code",
   "execution_count": 11,
   "id": "40974b08-c4ba-4f02-992b-b4535308a0e6",
   "metadata": {},
   "outputs": [],
   "source": [
    "class account():\n",
    "    def __init__(self,balance):\n",
    "        self._balance = balance\n",
    "        \n",
    "    def deposit(self,amount):\n",
    "        self._balance = self._balance + amount\n",
    "        return self._balance\n",
    "    \n",
    "    def withdraw(self,amount):\n",
    "        if amount< self._balance:\n",
    "            self._balance = self._balance - amount\n",
    "            \n",
    "        else:\n",
    "            print(\"You have insufficient balance\")\n",
    "            \n",
    "a1 = account(1000)"
   ]
  },
  {
   "cell_type": "code",
   "execution_count": 12,
   "id": "7dbcbab9-0f4a-40b3-8475-876263d41499",
   "metadata": {},
   "outputs": [
    {
     "data": {
      "text/plain": [
       "3000"
      ]
     },
     "execution_count": 12,
     "metadata": {},
     "output_type": "execute_result"
    }
   ],
   "source": [
    "a1.deposit(2000)"
   ]
  },
  {
   "cell_type": "code",
   "execution_count": 13,
   "id": "972cd040-3693-480c-b227-874a4d2ebbf5",
   "metadata": {},
   "outputs": [
    {
     "name": "stdout",
     "output_type": "stream",
     "text": [
      "You have insufficient balance\n"
     ]
    }
   ],
   "source": [
    "a1.withdraw(4000)"
   ]
  },
  {
   "cell_type": "code",
   "execution_count": null,
   "id": "1ebfb116-5178-4cc6-a2eb-e9f1a0d0e94c",
   "metadata": {},
   "outputs": [],
   "source": []
  }
 ],
 "metadata": {
  "kernelspec": {
   "display_name": "Python 3 (ipykernel)",
   "language": "python",
   "name": "python3"
  },
  "language_info": {
   "codemirror_mode": {
    "name": "ipython",
    "version": 3
   },
   "file_extension": ".py",
   "mimetype": "text/x-python",
   "name": "python",
   "nbconvert_exporter": "python",
   "pygments_lexer": "ipython3",
   "version": "3.10.8"
  }
 },
 "nbformat": 4,
 "nbformat_minor": 5
}
