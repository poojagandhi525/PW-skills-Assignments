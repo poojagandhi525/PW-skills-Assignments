{
 "cells": [
  {
   "cell_type": "markdown",
   "id": "cfd60d17-3815-4798-b500-70bfe93bc25a",
   "metadata": {},
   "source": [
    "Q1. Explain Class and Object with respect to Object-Oriented Programming. Give a suitable example."
   ]
  },
  {
   "cell_type": "markdown",
   "id": "4386a419-2350-4a19-ad4a-a71e2adaa211",
   "metadata": {},
   "source": [
    "Class is known to be the blueprint of the object.\n",
    "\n",
    "And objects are known to be a instance or methods of the class."
   ]
  },
  {
   "cell_type": "code",
   "execution_count": 3,
   "id": "2a249aa9-c7e6-4045-97ab-e9619dad777d",
   "metadata": {},
   "outputs": [
    {
     "name": "stdout",
     "output_type": "stream",
     "text": [
      "This is my test class\n"
     ]
    }
   ],
   "source": [
    "class test:\n",
    "    def __init__(self):\n",
    "        print(\"This is my test class\")\n",
    "        \n",
    "t1 = test()"
   ]
  },
  {
   "cell_type": "markdown",
   "id": "d88be4c1-c3de-47f9-a2c1-300c32602c9e",
   "metadata": {},
   "source": [
    "In the above example test is a class and t1 is the object of that class."
   ]
  },
  {
   "cell_type": "markdown",
   "id": "546d2856-0477-4b86-96d8-76571f6ec9ab",
   "metadata": {},
   "source": [
    "Q2. Name the four pillars of OOPs."
   ]
  },
  {
   "cell_type": "markdown",
   "id": "3cabcd27-aaa1-4620-b8bc-4bc3963dc814",
   "metadata": {},
   "source": [
    "The four pillars of OOPS are:\n",
    "\n",
    "1) Encapsulation\n",
    "2) Inheritance\n",
    "3) Polymorphism\n",
    "4) Abstraction"
   ]
  },
  {
   "cell_type": "markdown",
   "id": "c889673d-2d55-4bf2-aee1-455327172e95",
   "metadata": {},
   "source": [
    "Q3. Explain why the __init__() function is used. Give a suitable example."
   ]
  },
  {
   "cell_type": "markdown",
   "id": "86dfea47-efff-4338-af68-05d7cab9fd8f",
   "metadata": {},
   "source": [
    "Init is known as a constructor which is used to assign values when object is created."
   ]
  },
  {
   "cell_type": "code",
   "execution_count": 9,
   "id": "e828b01f-fed7-42d9-956a-3aac86ba45ab",
   "metadata": {},
   "outputs": [
    {
     "name": "stdout",
     "output_type": "stream",
     "text": [
      "pooja\n"
     ]
    }
   ],
   "source": [
    "class test1():\n",
    "    def __init__(self,name):\n",
    "        self.name = name\n",
    "        print(self.name)\n",
    "    \n",
    "t1 = test1('pooja')"
   ]
  },
  {
   "cell_type": "markdown",
   "id": "4cc63b27-d36a-4bfb-82a3-6b52092fea68",
   "metadata": {},
   "source": [
    "Q4. Why self is used in OOPs?"
   ]
  },
  {
   "cell_type": "markdown",
   "id": "47b7cb06-da45-43aa-b8c2-e848ee380ac2",
   "metadata": {},
   "source": [
    "Self used to be the instance of the class.By using self, we can access the variables and methods used in the class.\n",
    "\n",
    "It is just a convention, we can use any word for this but it should be same in full class. But we used to use self because,it will be easy for others as well to understand our code."
   ]
  },
  {
   "cell_type": "markdown",
   "id": "75737ee9-7947-404a-99fd-4e0f5deb081e",
   "metadata": {},
   "source": [
    "Q5. What is inheritance? Give an example for each type of inheritance."
   ]
  },
  {
   "cell_type": "markdown",
   "id": "7c3fa41b-99e9-4e44-9665-4f9e3fa7fb7b",
   "metadata": {},
   "source": [
    "Inheritance means to inherit the properties from the parent class in a child class.\n",
    "\n",
    "As a child class, class can use the properties (methods/fucntions) of parents class as well."
   ]
  },
  {
   "cell_type": "code",
   "execution_count": 10,
   "id": "6118ed3f-1815-4f55-8510-4c66f9bb46ca",
   "metadata": {},
   "outputs": [],
   "source": [
    "class class1:\n",
    "    def test_class1(self):\n",
    "        return (\"This is a method from class1\")\n",
    "    \n",
    "class class2:\n",
    "    def test_class2(self):\n",
    "        return (\"This is a method from class2\")\n",
    "    \n",
    "# Multiple Inheritance\n",
    "    \n",
    "class class3(class1,class2):\n",
    "    def test_class3(self):\n",
    "        return (\"This is a method from class3\")\n",
    "\n",
    "    \n",
    "# Single Inheritance\n",
    "class class4(class1):\n",
    "    def test_class4(self):\n",
    "        return (\"This is a method from class4\")\n",
    "    \n",
    "#Multilabel Inheritance\n",
    "\n",
    "class class5(class4):\n",
    "    def test_class4(self):\n",
    "        return (\"This is a method from class4\")\n",
    "    \n",
    "class class6(class5):\n",
    "    def test_class4(self):\n",
    "        return (\"This is a method from class4\")"
   ]
  },
  {
   "cell_type": "code",
   "execution_count": null,
   "id": "752425ec-f11a-4c93-8b09-3305ecf0ea38",
   "metadata": {},
   "outputs": [],
   "source": []
  }
 ],
 "metadata": {
  "kernelspec": {
   "display_name": "Python 3 (ipykernel)",
   "language": "python",
   "name": "python3"
  },
  "language_info": {
   "codemirror_mode": {
    "name": "ipython",
    "version": 3
   },
   "file_extension": ".py",
   "mimetype": "text/x-python",
   "name": "python",
   "nbconvert_exporter": "python",
   "pygments_lexer": "ipython3",
   "version": "3.10.8"
  }
 },
 "nbformat": 4,
 "nbformat_minor": 5
}
