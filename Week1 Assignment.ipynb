{
 "cells": [
  {
   "cell_type": "markdown",
   "id": "ad113ddb-b231-4de1-82f8-1f6f6b772526",
   "metadata": {},
   "source": [
    "ASSIGNMENT"
   ]
  },
  {
   "cell_type": "markdown",
   "id": "506a1d9d-1a8f-4597-bdd3-1e9cd031bed8",
   "metadata": {},
   "source": [
    "Q1. Create one variable containing following type of data:\n",
    "(i) string\n",
    "(ii) list\n",
    "(iii) float\n",
    "(iv) tuple"
   ]
  },
  {
   "cell_type": "code",
   "execution_count": 1,
   "id": "7ab5b511-fb4f-44bc-a066-9980c38d5353",
   "metadata": {},
   "outputs": [
    {
     "name": "stdout",
     "output_type": "stream",
     "text": [
      "PWSKILLS\n",
      "[10, 45, 70.5, [3, 5, 78], True]\n",
      "45.5\n",
      "(1, 2, 3)\n"
     ]
    }
   ],
   "source": [
    "s = \"PWSKILLS\"\n",
    "l = [10,45,70.5,[3,5,78],True]\n",
    "f = 45.5\n",
    "t = (1,2,3)\n",
    "print(s)\n",
    "print(l)\n",
    "print(f)\n",
    "print(t)"
   ]
  },
  {
   "cell_type": "markdown",
   "id": "0fa41f6b-5299-4e0c-9ffd-0340162ddf4e",
   "metadata": {},
   "source": [
    "Q2. Given are some following variables containing data:\n",
    "(i) var1 = ‘ ‘\n",
    "(ii) var2 = ‘[ DS , ML , Python]’\n",
    "(iii) var3 = [ ‘DS’ , ’ML’ , ‘Python’ ]\n",
    "(iv) var4 = 1.\n",
    "What will be the data type of the above given variable."
   ]
  },
  {
   "cell_type": "code",
   "execution_count": 2,
   "id": "cf0b6744-d4b2-4f31-90fb-7a9a364d6f22",
   "metadata": {},
   "outputs": [],
   "source": [
    "var1 = ''\n",
    "var2 = '[ DS , ML , Python]'\n",
    "var3 = ['DS','ML','Python']\n",
    "var4 = 1"
   ]
  },
  {
   "cell_type": "code",
   "execution_count": 3,
   "id": "2729dd18-a82a-4ba4-be22-5aaba9f8af50",
   "metadata": {},
   "outputs": [
    {
     "name": "stdout",
     "output_type": "stream",
     "text": [
      "<class 'str'> <class 'str'> <class 'list'> <class 'int'>\n"
     ]
    }
   ],
   "source": [
    "print(type(var1),type(var2),type(var3),type(var4))"
   ]
  },
  {
   "cell_type": "markdown",
   "id": "efc48af6-fb58-41c2-ad85-7241031abb45",
   "metadata": {},
   "source": [
    "Q3. Explain the use of the following operators using an example:\n",
    "(i) /\n",
    "(ii) %\n",
    "(iii) //\n",
    "(iv) **"
   ]
  },
  {
   "cell_type": "markdown",
   "id": "7527f309-2267-4079-b7f4-85811a2def50",
   "metadata": {},
   "source": [
    "(i) / -> It divides the two numbers a and b (a/b) and returns the quotient. It return the number in float datatype. And a and b must be numeric or we can use boolean datatype because True is consider as 1 and False is consider as 0. some examples are given below."
   ]
  },
  {
   "cell_type": "code",
   "execution_count": 4,
   "id": "41464d79-9134-4c6d-abba-a689f2b3ff28",
   "metadata": {},
   "outputs": [
    {
     "data": {
      "text/plain": [
       "2.5"
      ]
     },
     "execution_count": 4,
     "metadata": {},
     "output_type": "execute_result"
    }
   ],
   "source": [
    "5/2"
   ]
  },
  {
   "cell_type": "code",
   "execution_count": 5,
   "id": "f1499ff3-12ff-4c2c-8a4a-0dd42016e927",
   "metadata": {},
   "outputs": [
    {
     "data": {
      "text/plain": [
       "4.0"
      ]
     },
     "execution_count": 5,
     "metadata": {},
     "output_type": "execute_result"
    }
   ],
   "source": [
    "8/2"
   ]
  },
  {
   "cell_type": "markdown",
   "id": "9e3fcc03-ac88-4788-9658-99d83bae55f1",
   "metadata": {},
   "source": [
    "(ii) % It is used to give the reminder when one number is divided by another number (a%b). Here this fucntion will give the reminder when a will divided by b. It returns the result in int datatype. Here a and b must be numbers as like above."
   ]
  },
  {
   "cell_type": "code",
   "execution_count": 6,
   "id": "ba2a7d63-b666-48f7-b5e3-d5ac0d5b7d3e",
   "metadata": {},
   "outputs": [
    {
     "data": {
      "text/plain": [
       "1"
      ]
     },
     "execution_count": 6,
     "metadata": {},
     "output_type": "execute_result"
    }
   ],
   "source": [
    "5%2"
   ]
  },
  {
   "cell_type": "markdown",
   "id": "bc9afefe-8a84-47af-944d-504eb7f81c29",
   "metadata": {},
   "source": [
    "(iii) // It is used to return the number by which a is completely divide by b. It also gives the return in int datatype. It is different from /, / used to give the number when a is divided by b but in this remainder used to be 0. But in //, it is not necessary remainder will be 0. Like 5//2 will give 2 because 5 = 2*2 +1 that means 1 is remainder."
   ]
  },
  {
   "cell_type": "code",
   "execution_count": 7,
   "id": "cd8d57e8-d0d4-4772-b335-f77b3245ae97",
   "metadata": {},
   "outputs": [
    {
     "data": {
      "text/plain": [
       "4"
      ]
     },
     "execution_count": 7,
     "metadata": {},
     "output_type": "execute_result"
    }
   ],
   "source": [
    "8//2"
   ]
  },
  {
   "cell_type": "code",
   "execution_count": 8,
   "id": "ab62cb4a-eef7-4610-b6e7-9f6bc6d7f92e",
   "metadata": {},
   "outputs": [
    {
     "data": {
      "text/plain": [
       "2"
      ]
     },
     "execution_count": 8,
     "metadata": {},
     "output_type": "execute_result"
    }
   ],
   "source": [
    "5//2"
   ]
  },
  {
   "cell_type": "markdown",
   "id": "4c8ddac0-b667-4840-b22e-5a32a2bc4ed1",
   "metadata": {},
   "source": [
    "(iv) ** It is used to find the bth power of a number. (a**b) - > Like (2**2) that means 2th power of 2 that is 4"
   ]
  },
  {
   "cell_type": "code",
   "execution_count": 9,
   "id": "03ef4d1a-f851-4b53-bc08-f551e4d7a5ea",
   "metadata": {},
   "outputs": [
    {
     "data": {
      "text/plain": [
       "27"
      ]
     },
     "execution_count": 9,
     "metadata": {},
     "output_type": "execute_result"
    }
   ],
   "source": [
    "3**3"
   ]
  },
  {
   "cell_type": "code",
   "execution_count": 10,
   "id": "9d896e3a-5691-4259-a541-09fbfdb9deb7",
   "metadata": {},
   "outputs": [
    {
     "data": {
      "text/plain": [
       "16"
      ]
     },
     "execution_count": 10,
     "metadata": {},
     "output_type": "execute_result"
    }
   ],
   "source": [
    "4**2"
   ]
  },
  {
   "cell_type": "markdown",
   "id": "add36ad9-b94f-4d80-9e1c-eec8d09576d3",
   "metadata": {},
   "source": [
    "Q4. Create a list of length 10 of your choice containing multiple types of data. Using for loop print the\n",
    "element and its data type."
   ]
  },
  {
   "cell_type": "code",
   "execution_count": 11,
   "id": "bcec429a-1cdc-47d7-af2a-9ac44b650c7c",
   "metadata": {},
   "outputs": [
    {
     "name": "stdout",
     "output_type": "stream",
     "text": [
      "1 <class 'int'>\n",
      "56 <class 'int'>\n",
      "70.5 <class 'float'>\n",
      "PWSKILLS <class 'str'>\n",
      "[1, 2, 3] <class 'list'>\n",
      "True <class 'bool'>\n",
      "70 <class 'int'>\n",
      "45 <class 'int'>\n",
      "80 <class 'int'>\n",
      "100 <class 'int'>\n",
      "code run successfully\n"
     ]
    }
   ],
   "source": [
    "l = [1,56,70.5,\"PWSKILLS\",[1,2,3],True,70,45,80,100]\n",
    "for i in range(len(l)):\n",
    "    print(l[i],type(l[i]))\n",
    "    i+=1\n",
    "else:\n",
    "    print(\"code run successfully\")"
   ]
  },
  {
   "cell_type": "markdown",
   "id": "5ea0847b-a3b1-40fa-b12a-65fac122aa46",
   "metadata": {},
   "source": [
    "Q5. Using a while loop, verify if the number A is purely divisible by number B and if so then how many\n",
    "times it can be divisible."
   ]
  },
  {
   "cell_type": "code",
   "execution_count": 12,
   "id": "9fd8bf35-dcc8-4bc8-a0d1-7a389595e7bd",
   "metadata": {},
   "outputs": [
    {
     "name": "stdin",
     "output_type": "stream",
     "text": [
      "Enter first number 8\n",
      "Enter second number 2\n"
     ]
    },
    {
     "name": "stdout",
     "output_type": "stream",
     "text": [
      "Yes number A is purely divisible by number B and quotient is 4.0\n"
     ]
    }
   ],
   "source": [
    "a = int(input(\"Enter first number\"))\n",
    "b = int(input(\"Enter second number\"))\n",
    "i = 0\n",
    "while i in range(1):\n",
    "    if a%b == 0:\n",
    "        print(f\"Yes number A is purely divisible by number B and quotient is {a/b}\")\n",
    "        break\n",
    "    else:\n",
    "        print(\"Number A is not purely divisible by number B\")\n",
    "        break\n",
    "else:\n",
    "    print(\"code completed\")"
   ]
  },
  {
   "cell_type": "markdown",
   "id": "dbe9da86-209c-4ae4-a964-50d3189305d3",
   "metadata": {},
   "source": [
    "Q6. Create a list containing 25 int type data. Using for loop and if-else condition print if the element is\n",
    "divisible by 3 or not."
   ]
  },
  {
   "cell_type": "code",
   "execution_count": 13,
   "id": "af325964-7c75-42b1-9462-5c46a132d4e6",
   "metadata": {},
   "outputs": [
    {
     "name": "stdout",
     "output_type": "stream",
     "text": [
      "0 is divisible by 3\n",
      "1 is not divisible by 3\n",
      "2 is not divisible by 3\n",
      "3 is divisible by 3\n",
      "4 is not divisible by 3\n",
      "5 is not divisible by 3\n",
      "6 is divisible by 3\n",
      "7 is not divisible by 3\n",
      "8 is not divisible by 3\n",
      "9 is divisible by 3\n",
      "10 is not divisible by 3\n",
      "11 is not divisible by 3\n",
      "12 is divisible by 3\n",
      "13 is not divisible by 3\n",
      "14 is not divisible by 3\n",
      "15 is divisible by 3\n",
      "16 is not divisible by 3\n",
      "17 is not divisible by 3\n",
      "18 is divisible by 3\n",
      "19 is not divisible by 3\n",
      "20 is not divisible by 3\n",
      "21 is divisible by 3\n",
      "22 is not divisible by 3\n",
      "23 is not divisible by 3\n",
      "24 is divisible by 3\n",
      "Code ran successfully\n"
     ]
    }
   ],
   "source": [
    "l = list(range(25))\n",
    "for i in range(25):\n",
    "    if int(l[i])%3==0:\n",
    "        print(f\"{l[i]} is divisible by 3\")\n",
    "        i+=1\n",
    "    else:\n",
    "        print(f\"{l[i]} is not divisible by 3\")\n",
    "        i+=1\n",
    "else:\n",
    "    print(\"Code ran successfully\")"
   ]
  },
  {
   "cell_type": "markdown",
   "id": "a86d980e-0969-4771-a97d-8fd72d49d197",
   "metadata": {},
   "source": [
    "Q7. What do you understand about mutable and immutable data types? Give examples for both showing\n",
    "this property."
   ]
  },
  {
   "cell_type": "markdown",
   "id": "9527ebeb-afaa-4f8a-98b9-6303d573a240",
   "metadata": {},
   "source": [
    "Mutable data types are those datatypes in which we can update the values at index level.\n",
    "Example: List\n",
    "Immutable data types are those datatypes in which we can't update the values at index level.\n",
    "Example: String"
   ]
  },
  {
   "cell_type": "code",
   "execution_count": 14,
   "id": "1b24a9d9-3fb4-4d41-bc6a-7138b3cea23f",
   "metadata": {},
   "outputs": [
    {
     "data": {
      "text/plain": [
       "[1, 4, 3]"
      ]
     },
     "execution_count": 14,
     "metadata": {},
     "output_type": "execute_result"
    }
   ],
   "source": [
    "l = [1,2,3]\n",
    "l[1] = 4\n",
    "l"
   ]
  },
  {
   "cell_type": "code",
   "execution_count": null,
   "id": "6e8681c7-0807-4826-8a0d-bae62a45b6ae",
   "metadata": {},
   "outputs": [],
   "source": []
  }
 ],
 "metadata": {
  "kernelspec": {
   "display_name": "Python 3 (ipykernel)",
   "language": "python",
   "name": "python3"
  },
  "language_info": {
   "codemirror_mode": {
    "name": "ipython",
    "version": 3
   },
   "file_extension": ".py",
   "mimetype": "text/x-python",
   "name": "python",
   "nbconvert_exporter": "python",
   "pygments_lexer": "ipython3",
   "version": "3.10.8"
  }
 },
 "nbformat": 4,
 "nbformat_minor": 5
}
