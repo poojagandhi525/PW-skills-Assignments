{
 "cells": [
  {
   "cell_type": "markdown",
   "id": "1e96de06-77f2-4bd1-b739-5f043e3bbb37",
   "metadata": {},
   "source": [
    "## Week3 Assignment 1"
   ]
  },
  {
   "cell_type": "markdown",
   "id": "16336bbe-fd62-4ba5-a977-0de3712ae705",
   "metadata": {},
   "source": [
    "Q1. Which keyword is used to create a function? Create a function to return a list of odd numbers in the\n",
    "range of 1 to 25."
   ]
  },
  {
   "cell_type": "markdown",
   "id": "e618f3b5-9347-46d8-a726-16cad7fbda19",
   "metadata": {},
   "source": [
    "'def' is used to create the function"
   ]
  },
  {
   "cell_type": "code",
   "execution_count": 1,
   "id": "f89267d2-35ac-4242-9c2e-0cf28f20622b",
   "metadata": {},
   "outputs": [
    {
     "data": {
      "text/plain": [
       "[1, 3, 5, 7, 9, 11, 13, 15, 17, 19, 21, 23]"
      ]
     },
     "execution_count": 1,
     "metadata": {},
     "output_type": "execute_result"
    }
   ],
   "source": [
    "number = list(range(25))\n",
    "oddnum = lambda x:x%2!=0\n",
    "list(filter(oddnum,number))"
   ]
  },
  {
   "cell_type": "code",
   "execution_count": 2,
   "id": "aab47b03-8ca6-477e-9b54-7bf8d403aab8",
   "metadata": {},
   "outputs": [
    {
     "name": "stdout",
     "output_type": "stream",
     "text": [
      "[1, 3, 5, 7, 9, 11, 13, 15, 17, 19, 21, 23]\n"
     ]
    }
   ],
   "source": [
    "oddnum = lambda x:x%2!=0\n",
    "a = list(range(25))\n",
    "def oddnumlist():\n",
    "    num = 1\n",
    "    while num<25:\n",
    "        if oddnum(num):\n",
    "            yield num\n",
    "        num+=1\n",
    "print(list(oddnumlist()))"
   ]
  },
  {
   "cell_type": "markdown",
   "id": "ebf61678-1320-463d-9575-4cba87a32d6e",
   "metadata": {},
   "source": [
    "Q2. Why *args and **kwargs is used in some functions? Create a function each for *args and **kwargs\n",
    "to demonstrate their use."
   ]
  },
  {
   "cell_type": "markdown",
   "id": "8677939d-04bd-446a-9b7f-fc8457aab897",
   "metadata": {},
   "source": [
    "Args and kwargs are used as a parameter in the fucntion because in some cases, we are unaware about the number of paramters.\n",
    "\n",
    "*Args used for single paramter and **kwargs used for set of paramter like dictionary"
   ]
  },
  {
   "cell_type": "code",
   "execution_count": 3,
   "id": "8ac478b4-2ae8-4461-91ac-59a0a3d683ba",
   "metadata": {},
   "outputs": [
    {
     "name": "stdout",
     "output_type": "stream",
     "text": [
      "(5, 6, 7, 8)\n",
      "{'Course': 'Data Science'}\n"
     ]
    }
   ],
   "source": [
    "def args(*args):\n",
    "    print(args)\n",
    "    \n",
    "args(5,6,7,8)\n",
    "\n",
    "def kwargs(**kwargs):\n",
    "    print(kwargs)\n",
    "    \n",
    "kwargs(Course='Data Science')"
   ]
  },
  {
   "cell_type": "markdown",
   "id": "6d0255f1-db67-47f7-b452-c6ed5e2f5215",
   "metadata": {},
   "source": [
    "Q3. What is an iterator in python? Name the method used to initialise the iterator object and the method\n",
    "used for iteration. Use these methods to print the first five elements of the given list [2, 4, 6, 8, 10, 12, 14,\n",
    "16, 18, 20]."
   ]
  },
  {
   "cell_type": "markdown",
   "id": "11b586be-22ec-4d16-9685-d4a6237873b4",
   "metadata": {},
   "source": [
    "Iterator in python used to fetch the element one by one. \n",
    "To convert object to iterator, we used iter() and use the next function to fetch elements."
   ]
  },
  {
   "cell_type": "code",
   "execution_count": 4,
   "id": "669b211a-56ac-4659-b75d-019ce289624b",
   "metadata": {},
   "outputs": [
    {
     "name": "stdout",
     "output_type": "stream",
     "text": [
      "2\n",
      "4\n",
      "6\n",
      "8\n",
      "10\n"
     ]
    }
   ],
   "source": [
    "l = [2,4,6,8,10,12,14,16,18,20]\n",
    "l1 = iter(l)\n",
    "for i in range(5):\n",
    "    print(next(l1))"
   ]
  },
  {
   "cell_type": "markdown",
   "id": "0147ca7b-9bf3-4095-a233-7b408250c5ea",
   "metadata": {},
   "source": [
    "Q4. What is a generator function in python? Why yield keyword is used? Give an example of a generator\n",
    "function."
   ]
  },
  {
   "cell_type": "markdown",
   "id": "440f334b-154b-4c42-9c98-fd92b2eeba4e",
   "metadata": {},
   "source": [
    "Yield is a genrator function which reduces the memory allocation and reduces the computational power.\n",
    "yeild create the object and provide the location of result. It will not store the data in memory"
   ]
  },
  {
   "cell_type": "code",
   "execution_count": 5,
   "id": "52629b96-4ed9-4470-9d30-af4e1477dddb",
   "metadata": {},
   "outputs": [
    {
     "data": {
      "text/plain": [
       "[0, 1, 4, 9, 16, 25, 36, 49, 64, 81]"
      ]
     },
     "execution_count": 5,
     "metadata": {},
     "output_type": "execute_result"
    }
   ],
   "source": [
    "def square():\n",
    "    for i in range(10):\n",
    "        yield i**2\n",
    "        \n",
    "list(square())"
   ]
  },
  {
   "cell_type": "markdown",
   "id": "88f6d6ed-ac59-4b05-80bc-6c35771d0b45",
   "metadata": {},
   "source": [
    "Q5. Create a generator function for prime numbers less than 1000. Use the next() method to print the\n",
    "first 20 prime numbers."
   ]
  },
  {
   "cell_type": "code",
   "execution_count": 6,
   "id": "19af4155-f059-4547-a70b-21cedb8a9f28",
   "metadata": {},
   "outputs": [
    {
     "data": {
      "text/plain": [
       "[2, 3, 5, 7, 11, 13, 17, 19, 23, 29, 31, 37, 41, 43, 47, 53, 59, 61, 67, 71]"
      ]
     },
     "execution_count": 6,
     "metadata": {},
     "output_type": "execute_result"
    }
   ],
   "source": [
    "def prime(n):\n",
    "    if n<2:\n",
    "        return False\n",
    "    for i in range(2,int(n**0.5+1)):\n",
    "        if n%i ==0:\n",
    "            return False\n",
    "    return True\n",
    "\n",
    "def primegenrator():\n",
    "    num =2\n",
    "    while num<1000:\n",
    "        if prime(num):\n",
    "            yield num\n",
    "        num +=1\n",
    "        \n",
    "primenum = primegenrator()\n",
    "[next(primenum) for _ in range(20)]"
   ]
  },
  {
   "cell_type": "markdown",
   "id": "07dc0b64-0698-41e2-a7dd-5dddc2a35b18",
   "metadata": {},
   "source": [
    "Q6. Write a python program to print the first 10 Fibonacci numbers using a while loop."
   ]
  },
  {
   "cell_type": "code",
   "execution_count": 7,
   "id": "b26ca8a2-039f-459d-88eb-25ca7ab06338",
   "metadata": {},
   "outputs": [
    {
     "data": {
      "text/plain": [
       "[0, 1, 1, 2, 3, 5, 8, 13, 21, 34]"
      ]
     },
     "execution_count": 7,
     "metadata": {},
     "output_type": "execute_result"
    }
   ],
   "source": [
    "def test_fib(n):\n",
    "    a,b = 0,1\n",
    "    i=0\n",
    "    while i in range(10):\n",
    "        yield a\n",
    "        a,b = b,a+b\n",
    "        i+=1\n",
    "        \n",
    "l2 =[]\n",
    "for i in test_fib(10):\n",
    "    l2.append(i)\n",
    "l2"
   ]
  },
  {
   "cell_type": "markdown",
   "id": "75489316-6764-4026-8b0a-1eb0b5f83846",
   "metadata": {},
   "source": [
    "Q7. Write a List Comprehension to iterate through the given string: ‘pwskills’.\n",
    "Expected output: ['p', 'w', 's', 'k', 'i', 'l', 'l', 's']"
   ]
  },
  {
   "cell_type": "code",
   "execution_count": 8,
   "id": "489f682f-e4b0-4385-a763-92d6bc9187c4",
   "metadata": {},
   "outputs": [
    {
     "data": {
      "text/plain": [
       "['p', 'w', 's', 'k', 'i', 'l', 'l', 's']"
      ]
     },
     "execution_count": 8,
     "metadata": {},
     "output_type": "execute_result"
    }
   ],
   "source": [
    "s = 'pwskills'\n",
    "s1 = iter(s)\n",
    "[next(s1) for i in range(len(s))]"
   ]
  },
  {
   "cell_type": "markdown",
   "id": "a10a0bf5-55a8-4358-9d07-de318e227770",
   "metadata": {},
   "source": [
    "Q8. Write a python program to check whether a given number is Palindrome or not using a while loop."
   ]
  },
  {
   "cell_type": "code",
   "execution_count": 9,
   "id": "11659ad2-2aaa-4f7d-8011-9c40704f6728",
   "metadata": {},
   "outputs": [
    {
     "data": {
      "text/plain": [
       "\"I don't the solution of this question\""
      ]
     },
     "execution_count": 9,
     "metadata": {},
     "output_type": "execute_result"
    }
   ],
   "source": [
    "\"I don't the solution of this question\""
   ]
  },
  {
   "cell_type": "markdown",
   "id": "2933cde8-cac4-48e9-a2ee-379f7318dc86",
   "metadata": {},
   "source": [
    "Q9. Write a code to print odd numbers from 1 to 100 using list comprehension.\n",
    "Note: Use a list comprehension to create a list from 1 to 100 and use another List comprehension to filter\n",
    "out odd numbers."
   ]
  },
  {
   "cell_type": "code",
   "execution_count": 10,
   "id": "6c1c1ab8-5dcf-4da0-b6cf-f8092203455d",
   "metadata": {},
   "outputs": [
    {
     "data": {
      "text/plain": [
       "[1,\n",
       " 3,\n",
       " 5,\n",
       " 7,\n",
       " 9,\n",
       " 11,\n",
       " 13,\n",
       " 15,\n",
       " 17,\n",
       " 19,\n",
       " 21,\n",
       " 23,\n",
       " 25,\n",
       " 27,\n",
       " 29,\n",
       " 31,\n",
       " 33,\n",
       " 35,\n",
       " 37,\n",
       " 39,\n",
       " 41,\n",
       " 43,\n",
       " 45,\n",
       " 47,\n",
       " 49,\n",
       " 51,\n",
       " 53,\n",
       " 55,\n",
       " 57,\n",
       " 59,\n",
       " 61,\n",
       " 63,\n",
       " 65,\n",
       " 67,\n",
       " 69,\n",
       " 71,\n",
       " 73,\n",
       " 75,\n",
       " 77,\n",
       " 79,\n",
       " 81,\n",
       " 83,\n",
       " 85,\n",
       " 87,\n",
       " 89,\n",
       " 91,\n",
       " 93,\n",
       " 95,\n",
       " 97,\n",
       " 99]"
      ]
     },
     "execution_count": 10,
     "metadata": {},
     "output_type": "execute_result"
    }
   ],
   "source": [
    "l = range(100)\n",
    "odd = lambda x:x%2!=0\n",
    "list(filter(odd,l))"
   ]
  },
  {
   "cell_type": "code",
   "execution_count": null,
   "id": "9f986a2c-2745-4d02-a5f7-4333584d80f7",
   "metadata": {},
   "outputs": [],
   "source": []
  }
 ],
 "metadata": {
  "kernelspec": {
   "display_name": "Python 3 (ipykernel)",
   "language": "python",
   "name": "python3"
  },
  "language_info": {
   "codemirror_mode": {
    "name": "ipython",
    "version": 3
   },
   "file_extension": ".py",
   "mimetype": "text/x-python",
   "name": "python",
   "nbconvert_exporter": "python",
   "pygments_lexer": "ipython3",
   "version": "3.10.8"
  }
 },
 "nbformat": 4,
 "nbformat_minor": 5
}
